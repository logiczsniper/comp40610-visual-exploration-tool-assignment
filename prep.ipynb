{
 "cells": [
  {
   "cell_type": "code",
   "execution_count": 2,
   "metadata": {},
   "outputs": [],
   "source": [
    "import re\n",
    "\n",
    "from pandas import *\n",
    "from typing import Callable, Dict\n",
    "\n",
    "df = read_csv(\"meteorites.csv\")\n",
    "\n",
    "def isCC(type: str):\n",
    "  return bool(re.findall(\"^[C][I|M|R|O|V|K][0-9|~]+\", type))\n",
    "\n",
    "def isOC(type: str):\n",
    "  isLOrLLGroup = bool(re.findall(\"^[L][L]?[0-9|~]*\", type))\n",
    "  isHGroup = bool(re.findall(\"^[H][0-9|~]*\", type))\n",
    "  return isLOrLLGroup or isHGroup\n",
    "\n",
    "def isEC(type: str):\n",
    "  isEHGroup = bool(re.findall(\"^[E][H]?[0-9]+\", type))\n",
    "  isELGroup = bool(re.findall(\"^[E][L]?[0-9]+\", type))\n",
    "  return isEHGroup or isELGroup\n",
    "\n",
    "def isKC(type: str):\n",
    "  return \"K3\" in type\n",
    "\n",
    "def isPA(type: str):\n",
    "  minerals = [\n",
    "    \"Acapulcoite\",\n",
    "    \"Brachinite\",\n",
    "    \"Winonaite\"\n",
    "  ]\n",
    "  return bool([mineral for mineral in minerals if mineral in type])\n",
    "\n",
    "def isAC(type: str):\n",
    "  minerals = [\n",
    "    \"Ureilite\",\n",
    "    \"Diogenite\",\n",
    "    \"Eucrite\",\n",
    "    \"Martian\",\n",
    "    \"Aubrite\",\n",
    "    \"Angrite\"\n",
    "  ]\n",
    "  return bool([mineral for mineral in minerals if mineral in type])\n",
    "\n",
    "def isSI(type: str):\n",
    "  minerals = [\n",
    "    \"Mesosiderite\",\n",
    "    \"Stone-uncl\",\n",
    "    \"Pallasite\"\n",
    "  ]\n",
    "  return bool([mineral for mineral in minerals if mineral in type])\n",
    "\n",
    "def isIron(type: str):\n",
    "  return \"Iron, \" in type "
   ]
  },
  {
   "cell_type": "code",
   "execution_count": 3,
   "metadata": {},
   "outputs": [
    {
     "name": "stdout",
     "output_type": "stream",
     "text": [
      "Ordinary chondrite 40203\n",
      "Achondrite 1547\n",
      "Carbonaceous chondrite 1477\n",
      "Iron 1069\n",
      "Enstatite chondrite 509\n",
      "Unknown 457\n",
      "Stony-iron 331\n",
      "Primitive achondrite 121\n",
      "Kakangari chondrite 2\n"
     ]
    }
   ],
   "source": [
    "\n",
    "predicates: Dict[str, Callable[[str], bool]] = {\n",
    "  \"Carbonaceous chondrite\": isCC,\n",
    "  \"Enstatite chondrite\": isEC,\n",
    "  \"Ordinary chondrite\": isOC,\n",
    "  \"Kakangari chondrite\": isKC,\n",
    "  \"Primitive achondrite\": isPA,\n",
    "  \"Achondrite\": isAC,\n",
    "  \"Stony-iron\": isSI,\n",
    "  \"Iron\": isIron,\n",
    "  \"Unknown\": lambda _: True,\n",
    "}\n",
    "\n",
    "df_c = df.copy()\n",
    "df_c['category'] = df_c.apply(lambda row: [category_name for (category_name, category_predicate) in predicates.items() if category_predicate(row['class']) or category_name in row['class']][0], axis=1)\n",
    "\n",
    "for k,v in df_c['category'].value_counts().to_dict().items():\n",
    "  print(k, v)"
   ]
  },
  {
   "cell_type": "code",
   "execution_count": 4,
   "metadata": {},
   "outputs": [
    {
     "data": {
      "text/plain": [
       "Series([], Name: class, dtype: int64)"
      ]
     },
     "execution_count": 4,
     "metadata": {},
     "output_type": "execute_result"
    }
   ],
   "source": [
    "uncategorised = df[df_c['category'] == 'FUCK KNOWS']['class']\n",
    "uncategorised.value_counts()"
   ]
  },
  {
   "cell_type": "code",
   "execution_count": 5,
   "metadata": {},
   "outputs": [
    {
     "data": {
      "text/html": [
       "<div>\n",
       "<style scoped>\n",
       "    .dataframe tbody tr th:only-of-type {\n",
       "        vertical-align: middle;\n",
       "    }\n",
       "\n",
       "    .dataframe tbody tr th {\n",
       "        vertical-align: top;\n",
       "    }\n",
       "\n",
       "    .dataframe thead th {\n",
       "        text-align: right;\n",
       "    }\n",
       "</style>\n",
       "<table border=\"1\" class=\"dataframe\">\n",
       "  <thead>\n",
       "    <tr style=\"text-align: right;\">\n",
       "      <th></th>\n",
       "      <th>name</th>\n",
       "      <th>id</th>\n",
       "      <th>name_type</th>\n",
       "      <th>class</th>\n",
       "      <th>mass</th>\n",
       "      <th>fall</th>\n",
       "      <th>year</th>\n",
       "      <th>lat</th>\n",
       "      <th>long</th>\n",
       "      <th>geolocation</th>\n",
       "    </tr>\n",
       "  </thead>\n",
       "  <tbody>\n",
       "    <tr>\n",
       "      <th>16</th>\n",
       "      <td>Akyumak</td>\n",
       "      <td>433</td>\n",
       "      <td>Valid</td>\n",
       "      <td>Iron, IVA</td>\n",
       "      <td>50000.0</td>\n",
       "      <td>Fell</td>\n",
       "      <td>1981.0</td>\n",
       "      <td>39.91667</td>\n",
       "      <td>42.81667</td>\n",
       "      <td>(39.91667, 42.81667)</td>\n",
       "    </tr>\n",
       "    <tr>\n",
       "      <th>61</th>\n",
       "      <td>Avce</td>\n",
       "      <td>4906</td>\n",
       "      <td>Valid</td>\n",
       "      <td>Iron, IIAB</td>\n",
       "      <td>1230.0</td>\n",
       "      <td>Fell</td>\n",
       "      <td>1908.0</td>\n",
       "      <td>46.00000</td>\n",
       "      <td>13.50000</td>\n",
       "      <td>(46.0, 13.5)</td>\n",
       "    </tr>\n",
       "    <tr>\n",
       "      <th>66</th>\n",
       "      <td>Bahjoi</td>\n",
       "      <td>4922</td>\n",
       "      <td>Valid</td>\n",
       "      <td>Iron, IAB-sLL</td>\n",
       "      <td>10322.0</td>\n",
       "      <td>Fell</td>\n",
       "      <td>1934.0</td>\n",
       "      <td>28.48333</td>\n",
       "      <td>78.50000</td>\n",
       "      <td>(28.48333, 78.5)</td>\n",
       "    </tr>\n",
       "    <tr>\n",
       "      <th>70</th>\n",
       "      <td>Ban Rong Du</td>\n",
       "      <td>4934</td>\n",
       "      <td>Valid</td>\n",
       "      <td>Iron, ungrouped</td>\n",
       "      <td>16700.0</td>\n",
       "      <td>Fell</td>\n",
       "      <td>1993.0</td>\n",
       "      <td>16.66667</td>\n",
       "      <td>101.18333</td>\n",
       "      <td>(16.66667, 101.18333)</td>\n",
       "    </tr>\n",
       "    <tr>\n",
       "      <th>129</th>\n",
       "      <td>Bogou</td>\n",
       "      <td>5097</td>\n",
       "      <td>Valid</td>\n",
       "      <td>Iron, IAB-MG</td>\n",
       "      <td>8800.0</td>\n",
       "      <td>Fell</td>\n",
       "      <td>1962.0</td>\n",
       "      <td>12.50000</td>\n",
       "      <td>0.70000</td>\n",
       "      <td>(12.5, 0.7)</td>\n",
       "    </tr>\n",
       "    <tr>\n",
       "      <th>...</th>\n",
       "      <td>...</td>\n",
       "      <td>...</td>\n",
       "      <td>...</td>\n",
       "      <td>...</td>\n",
       "      <td>...</td>\n",
       "      <td>...</td>\n",
       "      <td>...</td>\n",
       "      <td>...</td>\n",
       "      <td>...</td>\n",
       "      <td>...</td>\n",
       "    </tr>\n",
       "    <tr>\n",
       "      <th>45703</th>\n",
       "      <td>Zenda</td>\n",
       "      <td>30400</td>\n",
       "      <td>Valid</td>\n",
       "      <td>Iron, IAB complex</td>\n",
       "      <td>3700.0</td>\n",
       "      <td>Found</td>\n",
       "      <td>1955.0</td>\n",
       "      <td>42.51333</td>\n",
       "      <td>-88.48944</td>\n",
       "      <td>(42.51333, -88.48944)</td>\n",
       "    </tr>\n",
       "    <tr>\n",
       "      <th>45705</th>\n",
       "      <td>Zerhamra</td>\n",
       "      <td>30403</td>\n",
       "      <td>Valid</td>\n",
       "      <td>Iron, IIIAB-an</td>\n",
       "      <td>630000.0</td>\n",
       "      <td>Found</td>\n",
       "      <td>1967.0</td>\n",
       "      <td>29.85861</td>\n",
       "      <td>-2.64500</td>\n",
       "      <td>(29.85861, -2.645)</td>\n",
       "    </tr>\n",
       "    <tr>\n",
       "      <th>45707</th>\n",
       "      <td>Zhaoping</td>\n",
       "      <td>54609</td>\n",
       "      <td>Valid</td>\n",
       "      <td>Iron, IAB complex</td>\n",
       "      <td>2000000.0</td>\n",
       "      <td>Found</td>\n",
       "      <td>1983.0</td>\n",
       "      <td>24.23333</td>\n",
       "      <td>111.18333</td>\n",
       "      <td>(24.23333, 111.18333)</td>\n",
       "    </tr>\n",
       "    <tr>\n",
       "      <th>45708</th>\n",
       "      <td>Zhigansk</td>\n",
       "      <td>30405</td>\n",
       "      <td>Valid</td>\n",
       "      <td>Iron, IIIAB</td>\n",
       "      <td>900000.0</td>\n",
       "      <td>Found</td>\n",
       "      <td>1966.0</td>\n",
       "      <td>68.00000</td>\n",
       "      <td>128.30000</td>\n",
       "      <td>(68.0, 128.3)</td>\n",
       "    </tr>\n",
       "    <tr>\n",
       "      <th>45709</th>\n",
       "      <td>Zhongxiang</td>\n",
       "      <td>30406</td>\n",
       "      <td>Valid</td>\n",
       "      <td>Iron</td>\n",
       "      <td>100000.0</td>\n",
       "      <td>Found</td>\n",
       "      <td>1981.0</td>\n",
       "      <td>31.20000</td>\n",
       "      <td>112.50000</td>\n",
       "      <td>(31.2, 112.5)</td>\n",
       "    </tr>\n",
       "  </tbody>\n",
       "</table>\n",
       "<p>1069 rows × 10 columns</p>\n",
       "</div>"
      ],
      "text/plain": [
       "              name     id name_type              class       mass   fall  \\\n",
       "16         Akyumak    433     Valid          Iron, IVA    50000.0   Fell   \n",
       "61            Avce   4906     Valid         Iron, IIAB     1230.0   Fell   \n",
       "66          Bahjoi   4922     Valid      Iron, IAB-sLL    10322.0   Fell   \n",
       "70     Ban Rong Du   4934     Valid    Iron, ungrouped    16700.0   Fell   \n",
       "129          Bogou   5097     Valid       Iron, IAB-MG     8800.0   Fell   \n",
       "...            ...    ...       ...                ...        ...    ...   \n",
       "45703        Zenda  30400     Valid  Iron, IAB complex     3700.0  Found   \n",
       "45705     Zerhamra  30403     Valid     Iron, IIIAB-an   630000.0  Found   \n",
       "45707     Zhaoping  54609     Valid  Iron, IAB complex  2000000.0  Found   \n",
       "45708     Zhigansk  30405     Valid        Iron, IIIAB   900000.0  Found   \n",
       "45709   Zhongxiang  30406     Valid               Iron   100000.0  Found   \n",
       "\n",
       "         year       lat       long            geolocation  \n",
       "16     1981.0  39.91667   42.81667   (39.91667, 42.81667)  \n",
       "61     1908.0  46.00000   13.50000           (46.0, 13.5)  \n",
       "66     1934.0  28.48333   78.50000       (28.48333, 78.5)  \n",
       "70     1993.0  16.66667  101.18333  (16.66667, 101.18333)  \n",
       "129    1962.0  12.50000    0.70000            (12.5, 0.7)  \n",
       "...       ...       ...        ...                    ...  \n",
       "45703  1955.0  42.51333  -88.48944  (42.51333, -88.48944)  \n",
       "45705  1967.0  29.85861   -2.64500     (29.85861, -2.645)  \n",
       "45707  1983.0  24.23333  111.18333  (24.23333, 111.18333)  \n",
       "45708  1966.0  68.00000  128.30000          (68.0, 128.3)  \n",
       "45709  1981.0  31.20000  112.50000          (31.2, 112.5)  \n",
       "\n",
       "[1069 rows x 10 columns]"
      ]
     },
     "execution_count": 5,
     "metadata": {},
     "output_type": "execute_result"
    }
   ],
   "source": [
    "df[df_c['category'] == 'Iron']"
   ]
  },
  {
   "cell_type": "code",
   "execution_count": 6,
   "metadata": {},
   "outputs": [
    {
     "data": {
      "text/plain": [
       "0.0"
      ]
     },
     "execution_count": 6,
     "metadata": {},
     "output_type": "execute_result"
    }
   ],
   "source": [
    "(len(uncategorised) / len(df)) * 100"
   ]
  },
  {
   "cell_type": "code",
   "execution_count": 7,
   "metadata": {},
   "outputs": [
    {
     "data": {
      "text/plain": [
       "L6          8339\n",
       "H5          7164\n",
       "L5          4817\n",
       "H6          4529\n",
       "H4          4222\n",
       "            ... \n",
       "CH/CBb         1\n",
       "H/L~4          1\n",
       "LL3.7-6        1\n",
       "H3.7/3.8       1\n",
       "L/LL           1\n",
       "Name: class, Length: 455, dtype: int64"
      ]
     },
     "execution_count": 7,
     "metadata": {},
     "output_type": "execute_result"
    }
   ],
   "source": [
    "df['class'].value_counts()"
   ]
  },
  {
   "cell_type": "code",
   "execution_count": 14,
   "metadata": {},
   "outputs": [],
   "source": [
    "df_c = df_c.dropna()"
   ]
  },
  {
   "cell_type": "code",
   "execution_count": 15,
   "metadata": {},
   "outputs": [],
   "source": [
    "df_c = df_c.astype({\"year\": int})"
   ]
  },
  {
   "cell_type": "code",
   "execution_count": 17,
   "metadata": {},
   "outputs": [],
   "source": [
    "df_c.to_csv('meteorites-clean.csv', index=False)"
   ]
  },
  {
   "cell_type": "code",
   "execution_count": 16,
   "metadata": {},
   "outputs": [
    {
     "data": {
      "text/plain": [
       "name            object\n",
       "id               int64\n",
       "name_type       object\n",
       "class           object\n",
       "mass           float64\n",
       "fall            object\n",
       "year             int32\n",
       "lat            float64\n",
       "long           float64\n",
       "geolocation     object\n",
       "category        object\n",
       "dtype: object"
      ]
     },
     "execution_count": 16,
     "metadata": {},
     "output_type": "execute_result"
    }
   ],
   "source": [
    "df_c.dtypes"
   ]
  }
 ],
 "metadata": {
  "kernelspec": {
   "display_name": "Python 3",
   "language": "python",
   "name": "python3"
  },
  "language_info": {
   "codemirror_mode": {
    "name": "ipython",
    "version": 3
   },
   "file_extension": ".py",
   "mimetype": "text/x-python",
   "name": "python",
   "nbconvert_exporter": "python",
   "pygments_lexer": "ipython3",
   "version": "3.10.6"
  },
  "orig_nbformat": 4,
  "vscode": {
   "interpreter": {
    "hash": "369f2c481f4da34e4445cda3fffd2e751bd1c4d706f27375911949ba6bb62e1c"
   }
  }
 },
 "nbformat": 4,
 "nbformat_minor": 2
}
